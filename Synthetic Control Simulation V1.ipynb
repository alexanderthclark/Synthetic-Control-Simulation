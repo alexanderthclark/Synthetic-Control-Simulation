{
 "cells": [
  {
   "cell_type": "markdown",
   "id": "70e24549",
   "metadata": {},
   "source": [
    "# Synthetic Control Simulation\n",
    "\n",
    "Sources\n",
    "1. Causal Inference Mixtape\n",
    "2. Causal Inferece for the Brave and True"
   ]
  },
  {
   "cell_type": "code",
   "execution_count": 1,
   "id": "069dd452",
   "metadata": {},
   "outputs": [],
   "source": [
    "import numpy as np\n",
    "import pandas as pd\n",
    "import matplotlib.pyplot as plt\n",
    "np.random.seed(777)\n",
    "\n",
    "from toolz import partial\n",
    "from scipy.optimize import fmin_slsqp"
   ]
  },
  {
   "cell_type": "code",
   "execution_count": 2,
   "id": "431895d4",
   "metadata": {},
   "outputs": [
    {
     "name": "stdout",
     "output_type": "stream",
     "text": [
      "/Users/alexander.clark\n"
     ]
    }
   ],
   "source": [
    "%cd ~"
   ]
  },
  {
   "cell_type": "code",
   "execution_count": 3,
   "id": "eff3da1e",
   "metadata": {},
   "outputs": [],
   "source": [
    "from synth_control import *"
   ]
  },
  {
   "cell_type": "markdown",
   "id": "b1bbf593",
   "metadata": {},
   "source": [
    "## Generate Fake Data\n",
    "\n",
    "For each unit $i$ and time period $t$, we observe features $A_{it}, B_{it},$ and $Y_{it}$. $Y_{it}$ is the outcome of interest and formed as a linear combination of $A_{it}$ and $B_{it}$. $A_{it}$ is drawn randomly at $t=0$ and $A_{it} = A_{it-1} + \\epsilon_{it}$ for $t\\geq 1$, where $\\epsilon_{it}$ is normal noise. The same is true of $B_{it}$, with noise iid across units, time, and features.\n",
    "\n",
    "The treated unit is a convex combo (`true_weights`) of the donor units, plus some random noise. \n",
    "\n",
    "In treatment periods, $Y_{it}$ is shifted up by 0.5 (`treatment_effect`) for the treated unit. "
   ]
  },
  {
   "cell_type": "code",
   "execution_count": 4,
   "id": "55764c19",
   "metadata": {},
   "outputs": [],
   "source": [
    "features = 'ABY'\n",
    "donor_units = range(3)\n",
    "treated_unit = 'T'\n",
    "\n",
    "n_periods = 10\n",
    "periods = range(n_periods)\n",
    "n_treament_periods = 3\n",
    "pretreatment_periods = range(0, n_periods - n_treament_periods)\n",
    "treatment_periods = range(n_periods - n_treament_periods, n_periods) # or post-treatment\n",
    "\n",
    "treatment_effect = 0.5 # additive effect on Y "
   ]
  },
  {
   "cell_type": "code",
   "execution_count": 5,
   "id": "a5c3e955",
   "metadata": {},
   "outputs": [],
   "source": [
    "data = pd.DataFrame()\n",
    "\n",
    "\n",
    "# Construct Dataset for the donor units\n",
    "for i in donor_units:\n",
    "    for feature in features[0:-1]: # exclude the outcome feature\n",
    "        for period in periods:\n",
    "            \n",
    "            # initialize at randomly\n",
    "            if period == 0:\n",
    "                data.loc[i,feature + str(period)] = np.random.normal() \n",
    "            \n",
    "            # evolve according to random shock\n",
    "            else:\n",
    "                prev = data.loc[i,feature + str(period-1)]\n",
    "                data.loc[i,feature + str(period)] = prev + np.random.normal(0,1)\n",
    "      \n",
    "    # Generate outcome variable\n",
    "    for period in periods:\n",
    "        # outcome is a linear combo of a and b\n",
    "        data.loc[i,'Y' + str(period)] = .1*data.loc[i,'A'+str(period)] \\\n",
    "                            + .9*data.loc[i,'B'+str(period)] + np.random.normal(0, .01) # adjust var\n"
   ]
  },
  {
   "cell_type": "code",
   "execution_count": 6,
   "id": "a6fe4956",
   "metadata": {},
   "outputs": [],
   "source": [
    "# Create the Treated Object\n",
    "\n",
    "# Untreated potential outcome as a combo of donors\n",
    "true_weights = np.random.dirichlet(np.ones(len(donor_units)))\n",
    "\n",
    "m = np.matrix(data)\n",
    "convex_combo = np.array(np.dot(true_weights, m)).flatten()\n",
    "\n",
    "# Think of this as Y_0 | D = 1, the potential outcome of no treatment for the treated unit\n",
    "data.loc[treated_unit] = convex_combo + np.random.normal(0, .01, size = len(convex_combo)) # adjust var\n",
    "\n",
    "# Treated outcome for treated unit\n",
    "data.loc[treated_unit + 'treat'] = data.loc[treated_unit]\n",
    "for treatment_period in treatment_periods:\n",
    "    data.loc[treated_unit + 'treat','Y'+str(treatment_period)] += treatment_effect"
   ]
  },
  {
   "cell_type": "code",
   "execution_count": 7,
   "id": "9aa1ab87",
   "metadata": {},
   "outputs": [],
   "source": [
    "# get dataframe with just pretreatment periods \n",
    "\n",
    "pretreatment_cols = []\n",
    "\n",
    "for i in list(data):\n",
    "    i2 = i\n",
    "    for x in features:\n",
    "        i2 = i2.lstrip(x)\n",
    "    if int(i2) in pretreatment_periods:\n",
    "        pretreatment_cols.append(i)\n",
    "        \n",
    "pretreatment_data = data[pretreatment_cols]"
   ]
  },
  {
   "cell_type": "code",
   "execution_count": 8,
   "id": "c820f39a",
   "metadata": {},
   "outputs": [
    {
     "data": {
      "image/png": "[encoded data removed]",
      "text/plain": [
       "<Figure size 432x288 with 1 Axes>"
      ]
     },
     "metadata": {
      "needs_background": "light"
     },
     "output_type": "display_data"
    }
   ],
   "source": [
    "outcomes = ['Y'+str(x) for x in periods]\n",
    "data.loc[treated_unit,outcomes].plot(linestyle = 'dashed', label = 'Untreated')\n",
    "data.loc[treated_unit + 'treat',outcomes].plot(linestyle = 'solid', label = 'Treated')\n",
    "plt.title(\"True Effect on Treated Unit\")\n",
    "plt.legend()\n",
    "plt.show()\n",
    "\n",
    "# Untreated represents the actual counterfactual (not synth control)"
   ]
  },
  {
   "cell_type": "markdown",
   "id": "c8b57f1b",
   "metadata": {},
   "source": [
    "## Measure Treatment Effect with Synthetic Control"
   ]
  },
  {
   "cell_type": "code",
   "execution_count": 9,
   "id": "3a50b905",
   "metadata": {},
   "outputs": [],
   "source": [
    "X1 = np.matrix(pretreatment_data.loc[treated_unit + 'treat']).T\n",
    "X0 = np.matrix(pretreatment_data.loc[donor_units]).T\n",
    "X0_all_periods = np.matrix(data.loc[donor_units]).T\n",
    "\n",
    "outcome_cols = ['Y'+ str(x) for x in pretreatment_periods]\n",
    "Y_donors = np.matrix(pretreatment_data.loc[list(donor_units), outcome_cols]).T\n",
    "Y1 = np.matrix(pretreatment_data.loc[[treated_unit + 'treat'], outcome_cols]).T"
   ]
  },
  {
   "cell_type": "code",
   "execution_count": 10,
   "id": "f34411c3",
   "metadata": {},
   "outputs": [],
   "source": [
    "n_features = len(features) * len(pretreatment_periods)"
   ]
  },
  {
   "cell_type": "code",
   "execution_count": 11,
   "id": "55b6cf58",
   "metadata": {},
   "outputs": [],
   "source": [
    "# Find V such that W(V) minimizes the mean squared prediction error\n",
    "V_star, estimated_weights = find_best_V_w(X0, X1, Y_donors, Y1, n_features = n_features)\n",
    "\n",
    "synthetic_unit = X0_all_periods*np.matrix(estimated_weights).T"
   ]
  },
  {
   "cell_type": "code",
   "execution_count": 12,
   "id": "a23696a1",
   "metadata": {},
   "outputs": [
    {
     "data": {
      "image/png": "[encoded data removed]",
      "text/plain": [
       "<Figure size 432x288 with 1 Axes>"
      ]
     },
     "metadata": {
      "needs_background": "light"
     },
     "output_type": "display_data"
    }
   ],
   "source": [
    "outcomes_all_periods = ['Y'+ str(x) for x in periods]\n",
    "\n",
    "plt.plot(outcomes_all_periods, data.loc[treated_unit, outcomes_all_periods].values, label = 'True Untreated')\n",
    "plt.plot(outcomes_all_periods, synthetic_unit[-len(periods):], label = 'Synthetic Control', marker = '.')\n",
    "plt.plot(outcomes_all_periods, data.loc[treated_unit+'treat', outcomes_all_periods].values, label = 'Treated')\n",
    "\n",
    "plt.legend()\n",
    "plt.show()"
   ]
  },
  {
   "cell_type": "code",
   "execution_count": 13,
   "id": "03c99660",
   "metadata": {},
   "outputs": [
    {
     "data": {
      "text/plain": [
       "<matplotlib.legend.Legend at 0x7f8de191c1f0>"
      ]
     },
     "execution_count": 13,
     "metadata": {},
     "output_type": "execute_result"
    },
    {
     "data": {
      "image/png": "[encoded data removed]",
      "text/plain": [
       "<Figure size 432x288 with 1 Axes>"
      ]
     },
     "metadata": {
      "needs_background": "light"
     },
     "output_type": "display_data"
    }
   ],
   "source": [
    "plt.bar(np.arange(len(true_weights))-0.18, true_weights, width = 0.3, label = \"True\")\n",
    "plt.bar(np.arange(len(true_weights))+0.18, estimated_weights, width = 0.3, color = 'C1', label = 'Estimated')\n",
    "plt.title(\"Weights\")\n",
    "plt.xlabel(\"Donor Unit\")\n",
    "plt.legend()"
   ]
  },
  {
   "cell_type": "markdown",
   "id": "7043b77f",
   "metadata": {},
   "source": [
    "## Calculate $p$-values"
   ]
  },
  {
   "cell_type": "code",
   "execution_count": 14,
   "id": "2ea676f8",
   "metadata": {},
   "outputs": [
    {
     "name": "stderr",
     "output_type": "stream",
     "text": [
      "/var/folders/_r/5whyybsj5jlg0yywjfk54qpr0000gp/T/ipykernel_30489/471669146.py:2: DeprecationWarning: The default dtype for empty Series will be 'object' instead of 'float64' in a future version. Specify a dtype explicitly to silence this warning.\n",
      "  ratios = pd.Series()\n"
     ]
    }
   ],
   "source": [
    "placebo_effects = dict()\n",
    "ratios = pd.Series()\n",
    "\n",
    "treated_unit_treat = treated_unit + 'treat'\n",
    "for unit in list(donor_units) + [treated_unit_treat]:\n",
    "\n",
    "    synth_outcomes, true_outcomes, V_star, estimated_weights = synthetic_control(data = data,\n",
    "                            features = features,\n",
    "                            treated_unit = unit,\n",
    "                            units = [x for x in list(donor_units)+[treated_unit] if x!= unit], # donors\n",
    "                            periods = periods,\n",
    "                            pretreatment_periods = pretreatment_periods,\n",
    "                            n_features = n_features,\n",
    "                            search_size = 100)\n",
    "        \n",
    "    placebo_effects[unit] = synth_outcomes, true_outcomes\n",
    "    ratio = rmspe_ratio(synth_outcomes, true_outcomes, treatment_start = 7)\n",
    "    ratios.loc[unit] = ratio"
   ]
  },
  {
   "cell_type": "code",
   "execution_count": 15,
   "id": "b5ef11f8",
   "metadata": {},
   "outputs": [
    {
     "name": "stdout",
     "output_type": "stream",
     "text": [
      "0.25 1 4\n"
     ]
    }
   ],
   "source": [
    "ratios.sort_values(ascending = False, inplace = True)\n",
    "\n",
    "rank = list(ratios.index).index(treated_unit_treat) + 1 \n",
    "\n",
    "p_value = rank / len(ratios)\n",
    "print(p_value, rank, len(ratios))"
   ]
  },
  {
   "cell_type": "code",
   "execution_count": null,
   "id": "06dde06f",
   "metadata": {},
   "outputs": [],
   "source": []
  }
 ],
 "metadata": {
  "kernelspec": {
   "display_name": "Python 3 (ipykernel)",
   "language": "python",
   "name": "python3"
  },
  "language_info": {
   "codemirror_mode": {
    "name": "ipython",
    "version": 3
   },
   "file_extension": ".py",
   "mimetype": "text/x-python",
   "name": "python",
   "nbconvert_exporter": "python",
   "pygments_lexer": "ipython3",
   "version": "3.8.5"
  }
 },
 "nbformat": 4,
 "nbformat_minor": 5
}
